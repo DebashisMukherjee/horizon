{
 "cells": [
  {
   "cell_type": "code",
   "execution_count": 1,
   "id": "e7dce0ef",
   "metadata": {},
   "outputs": [],
   "source": [
    "## source_reference : https://github.com/RodolfoFerro/ConvexHull\n",
    "############################################\n",
    "\n",
    "\n",
    "import sys\n",
    "import numpy as np\n",
    "import matplotlib.pyplot as plt\n",
    "\n",
    "\n",
    "\n",
    "\n",
    "# Function to know if we have a CCW turn\n",
    "def CCW(p1, p2, p3):\n",
    "\tif (p3[1]-p1[1])*(p2[0]-p1[0]) >= (p2[1]-p1[1])*(p3[0]-p1[0]):\n",
    "\t\treturn True\n",
    "\treturn False\n",
    "\n",
    "# Main function:\n",
    "def GiftWrapping(S):\n",
    "\tn = len(S)\n",
    "\tP = [None] * n\n",
    "\tl = np.where(S[:,0] == np.min(S[:,0]))\n",
    "\tpointOnHull = S[l[0][0]]\n",
    "\ti = 0\n",
    "\twhile True:\n",
    "\t\tP[i] = pointOnHull\n",
    "\t\tendpoint = S[0]\n",
    "\t\tfor j in range(1,n):\n",
    "\t\t\tif (endpoint[0] == pointOnHull[0] and endpoint[1] == pointOnHull[1]) or not CCW(S[j],P[i],endpoint):\n",
    "\t\t\t\tendpoint = S[j]\n",
    "\t\ti = i + 1\n",
    "\t\tpointOnHull = endpoint\n",
    "\t\tif endpoint[0] == P[0][0] and endpoint[1] == P[0][1]:\n",
    "\t\t\tbreak\n",
    "\tfor i in range(n):\n",
    "\t\tif P[-1] is None:\n",
    "\t\t\tdel P[-1]\n",
    "\treturn np.array(P)"
   ]
  },
  {
   "cell_type": "code",
   "execution_count": 2,
   "id": "51b6ab7e",
   "metadata": {},
   "outputs": [],
   "source": [
    "import pandas as pd\n",
    "# import numpy as np\n",
    "import time\n",
    "# from scipy.spatial import ConvexHull\n",
    "# df = pd.DataFrame({'col_1':np.random.randn(10000000), 'col_2':np.random.randn(10000000), 'col3':0})\n",
    "df = pd.DataFrame({'col_1':np.random.randn(100000), 'col_2':np.random.randn(100000), 'col3':0})\n",
    "# df\n",
    "# N = int(input(\"Introduce N: \"))"
   ]
  },
  {
   "cell_type": "code",
   "execution_count": 3,
   "id": "4efa78a1",
   "metadata": {},
   "outputs": [
    {
     "name": "stdout",
     "output_type": "stream",
     "text": [
      "Runtime of the program is 0.750967264175415\n"
     ]
    },
    {
     "data": {
      "image/png": "[encoded data removed]",
      "text/plain": [
       "<Figure size 432x288 with 1 Axes>"
      ]
     },
     "metadata": {
      "needs_background": "light"
     },
     "output_type": "display_data"
    }
   ],
   "source": [
    "start = time.time()\n",
    "# hull = ConvexHull(df[['col_1','col_2']])\n",
    "\n",
    "# L = GiftWrapping(df[['col_1','col_2']])\n",
    "## N = int(input(\"Introduce N: \"))\n",
    "N = 10001\n",
    "P = np.array([(np.random.randint(0,1000),np.random.randint(0,1000)) for i in range(N)])\n",
    "L = GiftWrapping(P)\n",
    "\n",
    "import matplotlib.pyplot as plt\n",
    "\n",
    "\n",
    "# plt.plot(df['col_1'], df['col_2'], 'o')\n",
    "# for simplex in hull.simplices:\n",
    "#     plt.plot(df['col_1'].iloc[simplex], df['col_2'].iloc[simplex], 'k-')\n",
    "# end = time.time()\n",
    "\n",
    "# # total time taken\n",
    "# print(f\"Runtime of the program is {end - start}\")\n",
    "\n",
    "# Plot the computed Convex Hull:\n",
    "plt.figure()\n",
    "plt.plot(L[:,0],L[:,1], 'k-') #, linewidth=2, markersize=5\n",
    "plt.plot([L[-1,0],L[0,0]],[L[-1,1],L[0,1]], 'k-')\n",
    "plt.plot(P[:,0],P[:,1],\"o\")\n",
    "plt.axis('off')\n",
    "#plt.show()\n",
    "end = time.time()\n",
    "# total time taken\n",
    "print(f\"Runtime of the program is {end - start}\")"
   ]
  },
  {
   "cell_type": "code",
   "execution_count": 4,
   "id": "59a282d7",
   "metadata": {},
   "outputs": [
    {
     "name": "stdout",
     "output_type": "stream",
     "text": [
      "Runtime of the program is 2.2599563598632812\n"
     ]
    },
    {
     "data": {
      "image/png": "[encoded data removed]",
      "text/plain": [
       "<Figure size 432x288 with 1 Axes>"
      ]
     },
     "metadata": {
      "needs_background": "light"
     },
     "output_type": "display_data"
    }
   ],
   "source": [
    "import pandas as pd\n",
    "df2 = pd.read_csv('02.Formica.csv')  #01.BugattiAtlantic,02.Formica,03.Flight,04.T-800-Head,05.Al  \n",
    "N,M=df2.shape\n",
    "#P1=np.zeros(N,M)\n",
    "\n",
    "    \n",
    "P1 = [(df2.loc[[i],'x'],df2.loc[[i],'y']) for i in range(N)]\n",
    "P=np.array(P1, dtype='f')\n",
    "\n",
    "\n",
    "\n",
    "start = time.time()\n",
    "# hull = ConvexHull(df[['col_1','col_2']])\n",
    "\n",
    "# L = GiftWrapping(df[['col_1','col_2']])\n",
    "## N = int(input(\"Introduce N: \"))\n",
    "#N = 10001\n",
    "#P = np.array([(np.random.randint(0,1000),np.random.randint(0,1000)) for i in range(N)])\n",
    "L = GiftWrapping(P)\n",
    "\n",
    "import matplotlib.pyplot as plt\n",
    "\n",
    "\n",
    "# plt.plot(df['col_1'], df['col_2'], 'o')\n",
    "# for simplex in hull.simplices:\n",
    "#     plt.plot(df['col_1'].iloc[simplex], df['col_2'].iloc[simplex], 'k-')\n",
    "# end = time.time()\n",
    "\n",
    "# # total time taken\n",
    "# print(f\"Runtime of the program is {end - start}\")\n",
    "\n",
    "# Plot the computed Convex Hull:\n",
    "plt.figure()\n",
    "plt.plot(P[:,0],P[:,1],\"o\")\n",
    "plt.plot(L[:,0],L[:,1], 'k-') #, linewidth=2, markersize=5\n",
    "plt.plot([L[-1,0],L[0,0]],[L[-1,1],L[0,1]], 'k-')\n",
    "plt.axis('off')\n",
    "#plt.show()\n",
    "end = time.time()\n",
    "# total time taken\n",
    "print(f\"Runtime of the program is {end - start}\")"
   ]
  },
  {
   "cell_type": "code",
   "execution_count": null,
   "id": "43f2c5c7",
   "metadata": {},
   "outputs": [],
   "source": []
  }
 ],
 "metadata": {
  "kernelspec": {
   "display_name": "Python 3",
   "language": "python",
   "name": "python3"
  },
  "language_info": {
   "codemirror_mode": {
    "name": "ipython",
    "version": 3
   },
   "file_extension": ".py",
   "mimetype": "text/x-python",
   "name": "python",
   "nbconvert_exporter": "python",
   "pygments_lexer": "ipython3",
   "version": "3.8.8"
  }
 },
 "nbformat": 4,
 "nbformat_minor": 5
}
