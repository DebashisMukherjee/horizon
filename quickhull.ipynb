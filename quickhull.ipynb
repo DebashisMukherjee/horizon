{
 "cells": [
  {
   "cell_type": "code",
   "execution_count": 1,
   "id": "1461b053",
   "metadata": {},
   "outputs": [],
   "source": [
    "## source_reference: https://github.com/theremintourette/quickhull\n",
    "###################################\n",
    "\n",
    "from math import atan2\n",
    "\n",
    "\n",
    "\n",
    "class Quick_hull:\n",
    "\n",
    "\t# Get points in convex hull\n",
    "\tdef get_convex_hull(self, points):\n",
    "\t\tif len(points) < 3:\n",
    "\t\t\treturn []\n",
    "\t\t\t\n",
    "\t\tresult = []\n",
    "\n",
    "\t\textremes = self.__get_endings(points)\n",
    "\n",
    "\t\t# Begin recursivity for each side\n",
    "\t\tself.__add_farthest(points, extremes['left'], extremes['right'], 1, result)\n",
    "\t\tself.__add_farthest(points, extremes['left'], extremes['right'], -1, result)\n",
    "\n",
    "\t\treturn self.__sort_by_angle(result, extremes['left'])\n",
    "\n",
    "\n",
    "\t# Recursive function looking for farthest point in a group from two given points\n",
    "\tdef __add_farthest(self, points, p1, p2, side, result):\n",
    "\t\tfarthest = None\n",
    "\t\tmax_area2 = 0\n",
    "\n",
    "\t\t# Check if any point is farther than p1, p2\n",
    "\t\tfor p in points:\n",
    "\t\t\tif self.__get_side(p1, p2, p) == side:\n",
    "\t\t\t\tarea2 = abs(self.__area2(p1, p2, p))\n",
    "\t\t\t\tif area2 > max_area2:\n",
    "\t\t\t\t\tfarthest = p\n",
    "\t\t\t\t\tmax_area2 = area2\n",
    "\n",
    "\t\t# If there is no farther point, stop recursivity and add p1 and p2 to the convex\n",
    "\t\t# hull  list if they aren't already in it\n",
    "\t\tif farthest == None:\n",
    "\t\t\tself.__add_extremes(p1, p2, result)\n",
    "\t\t\treturn\n",
    "\n",
    "\t\t# If there is, new recursivity calls checking for new farthest points on each side\n",
    "\t\tself.__add_farthest(points, farthest, p1, - self.__get_side(farthest, p1, p2), result)\n",
    "\t\tself.__add_farthest(points, farthest, p2, - self.__get_side(farthest, p2, p1), result)\n",
    "\n",
    "\n",
    "\t# Get most left and most right points\n",
    "\tdef __get_endings(self, points):\n",
    "\t\tleft = points[0]\n",
    "\t\tright = points[0]\n",
    "\t\tfor p in points[1:]:\n",
    "\t\t\tif p.x < left.x:\n",
    "\t\t\t\tleft = p\n",
    "\t\t\tif p.x > right.x:\n",
    "\t\t\t\tright = p\n",
    "\t\treturn { 'left': left, 'right': right }\n",
    "\n",
    "\n",
    "\t# Add candidates to the output list if they are not already in it\n",
    "\tdef __add_extremes(self, p1, p2, points):\n",
    "\t\tif p1 not in points:\n",
    "\t\t\tpoints.append(p1)\n",
    "\t\tif p2 not in points:\n",
    "\t\t\tpoints.append(p2)\n",
    "\n",
    "\n",
    "\t# Return 1 if p is above p1 and p2, 0 if it's collinear and -1 if it's below \n",
    "\tdef __get_side(self, p1, p2, p):\n",
    "\t\tval = self.__area2(p1, p2, p)\n",
    "\t\treturn val and 1 - 2 * (val < 0)\n",
    "\n",
    "\n",
    "\t# Calculate double of the area between p1, p2 and p \n",
    "\tdef __area2(self, p1, p2, p):\n",
    "\t\treturn (p.y - p1.y) * (p2.x - p1.x) - \\\n",
    "\t\t\t(p2.y - p1.y) * (p.x - p1.x)\n",
    "\n",
    "\n",
    "\t# Sort a group of points by the angle between each one and a given point\n",
    "\tdef __sort_by_angle(self, points, init_point):\n",
    "\t\tpoints.remove(init_point)\n",
    "\t\tangles = list(map(lambda p: atan2(p.y - init_point.y, p.x - init_point.x), points))\n",
    "\t\treturn [init_point] + [p for _, p in sorted(zip(angles, points))]"
   ]
  },
  {
   "cell_type": "code",
   "execution_count": 2,
   "id": "8a0c00f2",
   "metadata": {},
   "outputs": [],
   "source": [
    "class Point_structure:\n",
    "\tdef __init__(self,x_init,y_init):\n",
    "\t\tself.x = x_init\n",
    "\t\tself.y = y_init\n",
    "\n",
    "\tdef __repr__(self):\n",
    "\t\treturn \"\".join([\"Point(\", str(self.x), \",\", str(self.y), \")\"])\n",
    "\n",
    "\n",
    "class Polygon_structure:\n",
    "\tdef __init__(self, points=None):\n",
    "\t\tif points == None:\n",
    "\t\t\tpoints = []\n",
    "\t\tself.points = points\n",
    "\n",
    "\tdef add_point(self, point):\n",
    "\t\tself.points.append(point)\n",
    "\n",
    "\tdef __repr__(self):\n",
    "\t\treturn ''.join(['Polygon(', str([str(p) + ' ' for p in self.points]), ')'])\n"
   ]
  },
  {
   "cell_type": "code",
   "execution_count": 3,
   "id": "4ad598eb",
   "metadata": {},
   "outputs": [],
   "source": [
    "class Point(Point_structure):\n",
    "\tdef __init__(self, x_init, y_init):\n",
    "\t\tPoint_structure.__init__(self, x_init, y_init)\n",
    "\n",
    "\n",
    "class Polygon(Polygon_structure):\n",
    "\tdef __init__(self, points=None):\n",
    "\t\tPolygon_structure.__init__(self, points=None)\n",
    "\n",
    "\t@property\n",
    "\tdef convex_hull(self):\n",
    "\t\treturn Quick_hull().get_convex_hull(self.points)"
   ]
  },
  {
   "cell_type": "code",
   "execution_count": 4,
   "id": "afda4ed0",
   "metadata": {},
   "outputs": [
    {
     "name": "stdout",
     "output_type": "stream",
     "text": [
      "Runtime of the program is 0.7948315143585205\n"
     ]
    },
    {
     "data": {
      "text/plain": [
       "(-49.95, 1048.95, -49.95, 1048.95)"
      ]
     },
     "execution_count": 4,
     "metadata": {},
     "output_type": "execute_result"
    },
    {
     "data": {
      "image/png": "[encoded data removed]",
      "text/plain": [
       "<Figure size 432x288 with 1 Axes>"
      ]
     },
     "metadata": {
      "needs_background": "light"
     },
     "output_type": "display_data"
    }
   ],
   "source": [
    "import sys\n",
    "import numpy as np\n",
    "import matplotlib.pyplot as plt\n",
    "import time\n",
    "\n",
    "start = time.time()\n",
    "# By default we build a random set of N points with coordinates in [0,300)x[0,300):\n",
    "N=10001\n",
    "\n",
    "qh=Quick_hull()\n",
    "point_list = []\n",
    "for i in range(N):\n",
    "  point_list.append(Point(np.random.randint(0,1000),np.random.randint(0,1000)))\n",
    "L_list=qh.get_convex_hull(point_list)\n",
    "\n",
    "end = time.time()\n",
    "# total time taken\n",
    "print(f\"Runtime of the program is {end - start}\")\n",
    "\n",
    "P = np.array([(p1.x,p1.y) for p1 in point_list])\n",
    "L = np.array([(p2.x,p2.y) for p2 in L_list])\n",
    "\n",
    "\n",
    "# Plot the computed Convex Hull:\n",
    "plt.figure()\n",
    "plt.plot(L[:,0],L[:,1], 'k-') #, linewidth=2, markersize=5\n",
    "plt.plot([L[-1,0],L[0,0]],[L[-1,1],L[0,1]], 'k-')\n",
    "plt.plot(P[:,0],P[:,1],\"o\")\n",
    "plt.axis('off')\n",
    "#plt.show()\n"
   ]
  },
  {
   "cell_type": "code",
   "execution_count": 5,
   "id": "6f340024",
   "metadata": {},
   "outputs": [
    {
     "name": "stdout",
     "output_type": "stream",
     "text": [
      "Runtime of the program is 5.3521294593811035\n"
     ]
    },
    {
     "data": {
      "text/plain": [
       "(-1.2632305443286895,\n",
       " 1.271972519159317,\n",
       " -0.02150265006348491,\n",
       " 0.6231556466780603)"
      ]
     },
     "execution_count": 5,
     "metadata": {},
     "output_type": "execute_result"
    },
    {
     "data": {
      "image/png": "[encoded data removed]",
      "text/plain": [
       "<Figure size 432x288 with 1 Axes>"
      ]
     },
     "metadata": {
      "needs_background": "light"
     },
     "output_type": "display_data"
    }
   ],
   "source": [
    "import pandas as pd\n",
    "df2 = pd.read_csv('E:\\\\wrk\\\\code\\\\c_c++\\\\_cyg\\\\_out_disp\\\\_csv.file\\\\02.Formica.csv')  #01.BugattiAtlantic,02.Formica,03.Flight,04.T-800-Head,05.Al,_test  \n",
    "N,M=df2.shape\n",
    "#P1=np.zeros(N,M)\n",
    "\n",
    "    \n",
    "P1 = [(df2.loc[[i],'x'],df2.loc[[i],'y']) for i in range(N)]\n",
    "P=np.array(P1, dtype='f')\n",
    "\n",
    "\n",
    "start = time.time()\n",
    "# By default we build a random set of N points with coordinates in [0,300)x[0,300):\n",
    "\n",
    "\n",
    "qh=Quick_hull()\n",
    "point_list = []\n",
    "for i in range(N):\n",
    "  point_list.append(Point(P[i,0],P[i,1]))\n",
    "L_list=qh.get_convex_hull(point_list)\n",
    "\n",
    "end = time.time()\n",
    "# total time taken\n",
    "print(f\"Runtime of the program is {end - start}\")\n",
    "\n",
    "P = np.array([(p1.x,p1.y) for p1 in point_list])\n",
    "L = np.array([(p2.x,p2.y) for p2 in L_list])\n",
    "\n",
    "\n",
    "# Plot the computed Convex Hull:\n",
    "plt.figure()\n",
    "plt.plot(P[:,0],P[:,1],\"o\")\n",
    "plt.plot(L[:,0],L[:,1], 'k-') #, linewidth=2, markersize=5\n",
    "plt.plot([L[-1,0],L[0,0]],[L[-1,1],L[0,1]], 'k-')\n",
    "\n",
    "plt.axis('off')\n",
    "#plt.show()\n"
   ]
  }
 ],
 "metadata": {
  "kernelspec": {
   "display_name": "Python 3",
   "language": "python",
   "name": "python3"
  },
  "language_info": {
   "codemirror_mode": {
    "name": "ipython",
    "version": 3
   },
   "file_extension": ".py",
   "mimetype": "text/x-python",
   "name": "python",
   "nbconvert_exporter": "python",
   "pygments_lexer": "ipython3",
   "version": "3.8.8"
  }
 },
 "nbformat": 4,
 "nbformat_minor": 5
}
